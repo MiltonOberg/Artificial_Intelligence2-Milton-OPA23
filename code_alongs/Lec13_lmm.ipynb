{
 "cells": [
  {
   "cell_type": "markdown",
   "metadata": {},
   "source": [
    "## LMM"
   ]
  },
  {
   "cell_type": "code",
   "execution_count": 6,
   "metadata": {},
   "outputs": [],
   "source": [
    "import json\n",
    "import requests\n",
    "from dotenv import load_dotenv\n",
    "from pathlib import Path\n",
    "import os\n",
    "\n",
    "\n",
    "# in file .env write a line\n",
    "# EDEN_API= api key\n",
    "\n",
    "load_dotenv(Path()/ \"env\"/ \".env\")\n",
    "api_key= os.getenv(\"EDEN_API\")\n",
    "\n",
    "# print to check if api key gets fetched correctly, never commit the key\n",
    "# print(api_key)"
   ]
  },
  {
   "cell_type": "code",
   "execution_count": 7,
   "metadata": {},
   "outputs": [
    {
     "name": "stdout",
     "output_type": "stream",
     "text": [
      "Of course! I'm here to help. What do you need assistance with?\n"
     ]
    }
   ],
   "source": [
    "headers = {\"Authorization\": f\"Bearer {api_key}\"}\n",
    "\n",
    "url = \"https://api.edenai.run/v2/text/chat\"\n",
    "payload = {\n",
    "    \"providers\": \"openai\",\n",
    "    \"model\": \"gpt-3.5-turbo\",\n",
    "    \"text\": \"Hello i need your help ! \",\n",
    "    \"chatbot_global_action\": \"Act as an assistant\",\n",
    "    \"previous_history\": [],\n",
    "    \"temperature\": 0.0,\n",
    "    \"max_tokens\": 150,\n",
    "    \"fallback_providers\": \"perplexityai\"\n",
    "}\n",
    "\n",
    "response = requests.post(url, json=payload, headers=headers)\n",
    "\n",
    "result = json.loads(response.text)\n",
    "print(result['openai']['generated_text'])"
   ]
  },
  {
   "cell_type": "markdown",
   "metadata": {},
   "source": [
    "## Setup"
   ]
  },
  {
   "cell_type": "code",
   "execution_count": 8,
   "metadata": {},
   "outputs": [
    {
     "data": {
      "text/plain": [
       "'Självklart! Här kommer ett skämt: Varför kan inte cykeln stå själv? För att den är tvåhjulig och behöver stöd! 😄'"
      ]
     },
     "execution_count": 8,
     "metadata": {},
     "output_type": "execute_result"
    }
   ],
   "source": [
    "def chat(prompt, provider= \"openai\", model= \"gpt-3.5-turbo-0125\", temprature= .5):\n",
    "    \n",
    "    headers = {\"Authorization\": f\"Bearer {api_key}\"}\n",
    "\n",
    "    url = \"https://api.edenai.run/v2/text/chat\"\n",
    "    payload = {\n",
    "        \"providers\": \"openai\",\n",
    "        \"model\": \"gpt-3.5-turbo\",\n",
    "        \"text\": prompt,\n",
    "        \"chatbot_global_action\": \"Act as an assistant\",\n",
    "        \"previous_history\": [],\n",
    "        \"temperature\": 0.0,\n",
    "        \"max_tokens\": 150,\n",
    "        \"fallback_providers\": \"perplexityai\"\n",
    "    }\n",
    "\n",
    "    response = requests.post(url, json=payload, headers=headers)\n",
    "\n",
    "    result = json.loads(response.text)\n",
    "    return result[\"openai\"][\"generated_text\"]\n",
    "\n",
    "chat(\"kan du berätta ett roligt skämt?\")"
   ]
  },
  {
   "cell_type": "code",
   "execution_count": null,
   "metadata": {},
   "outputs": [],
   "source": []
  }
 ],
 "metadata": {
  "kernelspec": {
   "display_name": "venv",
   "language": "python",
   "name": "python3"
  },
  "language_info": {
   "codemirror_mode": {
    "name": "ipython",
    "version": 3
   },
   "file_extension": ".py",
   "mimetype": "text/x-python",
   "name": "python",
   "nbconvert_exporter": "python",
   "pygments_lexer": "ipython3",
   "version": "3.11.7"
  }
 },
 "nbformat": 4,
 "nbformat_minor": 2
}
