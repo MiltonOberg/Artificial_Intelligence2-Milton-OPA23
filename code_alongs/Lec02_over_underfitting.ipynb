{
 "cells": [
  {
   "cell_type": "markdown",
   "metadata": {},
   "source": [
    "## Code along- overfitting and underfitting\n",
    "- Simulate data\n",
    "\n",
    "$y= a_0 + a_1x + a_2x^2 + \\epsilon$\n",
    "\n",
    "where $\\epsilon \\sim \\mathcal{N}(0,1)$ (the error is standard normal distrubuted)"
   ]
  },
  {
   "cell_type": "code",
   "execution_count": 9,
   "metadata": {},
   "outputs": [],
   "source": [
    "import numpy as np\n",
    "import matplotlib.pyplot as plt"
   ]
  },
  {
   "cell_type": "code",
   "execution_count": 15,
   "metadata": {},
   "outputs": [
    {
     "data": {
      "text/plain": [
       "array([[-2.07358979],\n",
       "       [-0.47304496],\n",
       "       [ 1.67280501],\n",
       "       [-1.0005788 ],\n",
       "       [ 0.85296662],\n",
       "       [ 2.76714894],\n",
       "       [ 2.6664031 ],\n",
       "       [ 0.721527  ],\n",
       "       [ 1.19800604],\n",
       "       [ 0.48669111],\n",
       "       [-1.5763917 ],\n",
       "       [-1.40473247],\n",
       "       [-2.74326064],\n",
       "       [ 1.67935581],\n",
       "       [-1.58554631],\n",
       "       [ 0.4389168 ],\n",
       "       [-1.34650228],\n",
       "       [-0.06020697],\n",
       "       [ 1.17170802],\n",
       "       [ 2.84094266],\n",
       "       [ 2.03492228],\n",
       "       [-0.25658593],\n",
       "       [-0.04889029],\n",
       "       [ 0.19625046],\n",
       "       [-1.98584478],\n",
       "       [ 2.27620842],\n",
       "       [-0.62240739],\n",
       "       [-1.3852857 ],\n",
       "       [ 2.72815367],\n",
       "       [ 0.10198262],\n",
       "       [ 1.60435009],\n",
       "       [ 1.8499705 ],\n",
       "       [-0.83669181],\n",
       "       [ 2.10283772],\n",
       "       [-1.9830772 ],\n",
       "       [ 1.37255386],\n",
       "       [ 1.79375956],\n",
       "       [ 0.12781487],\n",
       "       [-2.94847691],\n",
       "       [-1.60458904],\n",
       "       [-1.02088073],\n",
       "       [ 0.48184707],\n",
       "       [-1.49530614],\n",
       "       [ 2.02750923],\n",
       "       [-0.42802144],\n",
       "       [-1.56246299],\n",
       "       [-0.35076582],\n",
       "       [ 2.95769721],\n",
       "       [-1.63405346],\n",
       "       [-0.75678317],\n",
       "       [ 2.17156779],\n",
       "       [ 2.53764647],\n",
       "       [ 2.05649196],\n",
       "       [ 2.73883566],\n",
       "       [ 1.94535071],\n",
       "       [-1.93351108],\n",
       "       [ 2.53434568],\n",
       "       [ 0.84466889],\n",
       "       [-2.278986  ],\n",
       "       [ 0.83471726],\n",
       "       [-1.27827165],\n",
       "       [-0.73304636],\n",
       "       [ 0.53769706],\n",
       "       [-1.64693737],\n",
       "       [ 0.28852779],\n",
       "       [-0.30591053],\n",
       "       [-0.9967631 ],\n",
       "       [-2.27528032],\n",
       "       [ 0.71055889],\n",
       "       [ 0.22731402],\n",
       "       [ 1.81537889],\n",
       "       [ 2.4638924 ],\n",
       "       [ 1.45079869],\n",
       "       [-1.24561974],\n",
       "       [ 2.64663878],\n",
       "       [-0.59807865],\n",
       "       [-1.88176611],\n",
       "       [-0.29057192],\n",
       "       [ 0.26289895],\n",
       "       [-0.56927329],\n",
       "       [-1.02361608],\n",
       "       [ 1.60027981],\n",
       "       [ 1.65424539],\n",
       "       [-2.45739889],\n",
       "       [-1.18087925],\n",
       "       [-1.22282887],\n",
       "       [-0.0794522 ],\n",
       "       [-1.61756618],\n",
       "       [-1.9714062 ],\n",
       "       [-1.01999661],\n",
       "       [ 0.39943799],\n",
       "       [ 0.77278644],\n",
       "       [ 2.08131993],\n",
       "       [-2.51868245],\n",
       "       [-2.55441784],\n",
       "       [-0.83591734],\n",
       "       [ 0.35967829],\n",
       "       [ 0.16658882],\n",
       "       [-0.27846386],\n",
       "       [-1.96592494]])"
      ]
     },
     "execution_count": 15,
     "metadata": {},
     "output_type": "execute_result"
    }
   ],
   "source": [
    "samples = 100\n",
    "X= np.random.uniform(-3, 3, (samples, 1))\n",
    "X"
   ]
  },
  {
   "cell_type": "code",
   "execution_count": 17,
   "metadata": {},
   "outputs": [
    {
     "data": {
      "text/plain": [
       "[<matplotlib.lines.Line2D at 0x145c0728190>]"
      ]
     },
     "execution_count": 17,
     "metadata": {},
     "output_type": "execute_result"
    },
    {
     "data": {
      "image/png": "[encoded data removed]",
      "text/plain": [
       "<Figure size 640x480 with 1 Axes>"
      ]
     },
     "metadata": {},
     "output_type": "display_data"
    }
   ],
   "source": [
    "# a0 = 3, a1 = 0.5, a2 = 1\n",
    "f= lambda x: x**2 + 0.5*x + 3\n",
    "y= f(X) + np.random.randn(samples, 1)\n",
    "\n",
    "\n",
    "x= np.linspace(-3, 3, samples)\n",
    "plt.plot(X,y, \".\")"
   ]
  },
  {
   "cell_type": "code",
   "execution_count": null,
   "metadata": {},
   "outputs": [],
   "source": []
  }
 ],
 "metadata": {
  "kernelspec": {
   "display_name": "venv",
   "language": "python",
   "name": "python3"
  },
  "language_info": {
   "codemirror_mode": {
    "name": "ipython",
    "version": 3
   },
   "file_extension": ".py",
   "mimetype": "text/x-python",
   "name": "python",
   "nbconvert_exporter": "python",
   "pygments_lexer": "ipython3",
   "version": "3.11.7"
  }
 },
 "nbformat": 4,
 "nbformat_minor": 2
}
